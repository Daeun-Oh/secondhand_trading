{
 "cells": [
  {
   "cell_type": "code",
   "execution_count": 1,
   "id": "60df7b03",
   "metadata": {},
   "outputs": [
    {
     "name": "stdout",
     "output_type": "stream",
     "text": [
      "Collecting pymysql\n",
      "  Downloading PyMySQL-1.1.1-py3-none-any.whl.metadata (4.4 kB)\n",
      "Downloading PyMySQL-1.1.1-py3-none-any.whl (44 kB)\n",
      "Installing collected packages: pymysql\n",
      "Successfully installed pymysql-1.1.1\n",
      "Note: you may need to restart the kernel to use updated packages.\n"
     ]
    }
   ],
   "source": [
    "pip install pymysql"
   ]
  },
  {
   "cell_type": "code",
   "execution_count": 5,
   "id": "59854caf",
   "metadata": {},
   "outputs": [],
   "source": [
    "import pymysql"
   ]
  },
  {
   "cell_type": "code",
   "execution_count": 10,
   "id": "76edca4d",
   "metadata": {},
   "outputs": [
    {
     "data": {
      "text/plain": [
       "<pymysql.connections.Connection at 0x162318fbc20>"
      ]
     },
     "execution_count": 10,
     "metadata": {},
     "output_type": "execute_result"
    }
   ],
   "source": [
    "# DB 연결 connect(..)\n",
    "db = pymysql.connect(\n",
    "  host='localhost',\n",
    "  port=3306,\n",
    "  user='SECONDHAND_CLASS',\n",
    "  passwd='1234',\n",
    "  db='SECONDHAND_CLASS',\n",
    "  charset='utf8'\n",
    ")\n",
    "\n",
    "db"
   ]
  },
  {
   "cell_type": "code",
   "execution_count": null,
   "id": "407a421f",
   "metadata": {},
   "outputs": [],
   "source": [
    "# 쿼리 실행은 cursor 객체를 생성\n",
    "# execute(..) : 모든 SQL (INSERT, UPDATE, DELETE, SELECT)\n",
    "# fetchone, fetchmany, fetchall : SELECT 구문을 사용한 경우 데이터 조회 시\n",
    "# db_객체 commit() : DB에 영구 반영"
   ]
  },
  {
   "cell_type": "code",
   "execution_count": 13,
   "id": "7588f693",
   "metadata": {},
   "outputs": [],
   "source": [
    "gender = {'FEMALE': 0, 'MALE': 1, 'OTHER': 2}\n",
    "\"\"\"\n",
    "No Info - 0\n",
    "current - 1\n",
    "ever - 2\n",
    "former - 3\n",
    "never - 4\n",
    "not current - 5\n",
    "other - 6\n",
    "\"\"\"\n",
    "SH = {'NO_INFO': 0, 'CURRENT': 1, 'EVER': 2, 'FORMER': 3, 'NEVER': 4, 'NOT_CURRENT': 5, 'OTHER': 6}"
   ]
  },
  {
   "cell_type": "code",
   "execution_count": 14,
   "id": "d01007e1",
   "metadata": {},
   "outputs": [
    {
     "name": "stdout",
     "output_type": "stream",
     "text": [
      "[0, 62, 1, 1, 3, 165.0, 71.1, 26.12, 8.8, 280.0, 1]\n",
      "[0, 62, 1, 1, 3, 165.0, 71.1, 26.12, 8.8, 280.0, 1]\n",
      "[0, 10, 0, 0, 1, 50.0, 50.0, 200.0, 50.0, 50.0, 1]\n",
      "[0, 10, 1, 0, 2, 160.0, 53.0, 20.7, 20.0, 30.0, 1]\n"
     ]
    },
    {
     "data": {
      "text/plain": [
       "array([[  0.  ,  62.  ,   1.  ,   1.  ,   3.  , 165.  ,  71.1 ,  26.12,\n",
       "          8.8 , 280.  ,   1.  ],\n",
       "       [  0.  ,  62.  ,   1.  ,   1.  ,   3.  , 165.  ,  71.1 ,  26.12,\n",
       "          8.8 , 280.  ,   1.  ],\n",
       "       [  0.  ,  10.  ,   0.  ,   0.  ,   1.  ,  50.  ,  50.  , 200.  ,\n",
       "         50.  ,  50.  ,   1.  ],\n",
       "       [  0.  ,  10.  ,   1.  ,   0.  ,   2.  , 160.  ,  53.  ,  20.7 ,\n",
       "         20.  ,  30.  ,   1.  ]])"
      ]
     },
     "execution_count": 14,
     "metadata": {},
     "output_type": "execute_result"
    }
   ],
   "source": [
    "cursor = db.cursor()\n",
    "sql = \"SELECT * FROM SURVEY_DIABETES WHERE trainDone IS NULL OR trainDone = 0\"\n",
    "cursor.execute(sql)\n",
    "\n",
    "items = []\n",
    "rows = cursor.fetchall()\n",
    "\n",
    "for row in rows:\n",
    "  item = list(row[2:-4])\n",
    "  item[0] = gender[item[0]]\n",
    "  item[4] = SH[item[4]]\n",
    "\n",
    "  items.append(item)\n",
    "\n",
    "  print(item)\n",
    "\n",
    "import numpy as np\n",
    "items = np.array(items)\n",
    "items"
   ]
  },
  {
   "cell_type": "code",
   "execution_count": 7,
   "id": "0794ca64",
   "metadata": {},
   "outputs": [],
   "source": [
    "# DB 연결 해제\n",
    "db.close()"
   ]
  }
 ],
 "metadata": {
  "kernelspec": {
   "display_name": ".venv",
   "language": "python",
   "name": "python3"
  },
  "language_info": {
   "codemirror_mode": {
    "name": "ipython",
    "version": 3
   },
   "file_extension": ".py",
   "mimetype": "text/x-python",
   "name": "python",
   "nbconvert_exporter": "python",
   "pygments_lexer": "ipython3",
   "version": "3.12.10"
  }
 },
 "nbformat": 4,
 "nbformat_minor": 5
}
